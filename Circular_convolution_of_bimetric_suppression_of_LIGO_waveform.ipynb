{
  "nbformat": 4,
  "nbformat_minor": 0,
  "metadata": {
    "colab": {
      "name": "Circular convolution of bimetric suppression of LIGO waveform.ipynb",
      "provenance": [],
      "toc_visible": true,
      "authorship_tag": "ABX9TyMFw3LwCZAtPchhlbyVB/GY",
      "include_colab_link": true
    },
    "kernelspec": {
      "name": "python3",
      "display_name": "Python 3"
    },
    "language_info": {
      "name": "python"
    }
  },
  "cells": [
    {
      "cell_type": "markdown",
      "metadata": {
        "id": "view-in-github",
        "colab_type": "text"
      },
      "source": [
        "<a href=\"https://colab.research.google.com/github/gokulsn42/LIGOcodemodulation/blob/main/Circular_convolution_of_bimetric_suppression_of_LIGO_waveform.ipynb\" target=\"_parent\"><img src=\"https://colab.research.google.com/assets/colab-badge.svg\" alt=\"Open In Colab\"/></a>"
      ]
    },
    {
      "cell_type": "code",
      "metadata": {
        "id": "sjW5yKy8DgSn"
      },
      "source": [
        "pip install -q 'PyCBC==1.18.0' 'lalsuite==6.82'"
      ],
      "execution_count": null,
      "outputs": []
    },
    {
      "cell_type": "markdown",
      "metadata": {
        "id": "pv4uT4NCDpjA"
      },
      "source": [
        "The following code takes a waveform from the open source LIGO data and modifies it for a frequency dependent suppression as would be observed by the interference of a massive and massless mode in bimetric gravity. We attempt to reproduce figures from [this paper](https://arxiv.org/pdf/1703.07785.pdf)"
      ]
    },
    {
      "cell_type": "code",
      "metadata": {
        "id": "donRNY88Dp_R"
      },
      "source": [
        "%matplotlib inline\n",
        "from pycbc.waveform import get_td_waveform\n",
        "import pylab\n",
        "import numpy as np\n",
        "import scipy as sp\n",
        "import math\n",
        "pi = np.pi\n",
        "m1 = 35.6 # solar mass units\n",
        "m2 = 30.6 # solar mass units\n",
        "d = 420 # Megaparsec units\n",
        "f_low=35 # Hertz\n",
        "def s(omega,theta,mfp,z,h0):#The supression in frequency space\n",
        "  lz = np.log(1+z)\n",
        "  s2 = ((math.cos(theta))**4)*(1 + (math.tan(theta))**4 + 2*((math.tan(theta))**2)*math.cos((1.5*10**15)*2*pi*mfp*mfp*lz/(2*h0*(omega))))\n",
        "  a = np.sqrt(s2)\n",
        "  return a\n",
        "hp, hc = get_td_waveform(approximant=\"SEOBNRv4_opt\",\n",
        "               mass1 = m1,\n",
        "               mass2 = m2,\n",
        "               distance = d,\n",
        "               delta_t = 1.0/16384,\n",
        "               f_lower = f_low)\n",
        "theta = pi/4\n",
        "h0 = 1.49*10**(-33)\n",
        "z = 0.09\n",
        "mfp = 5*10**(-23) #seems to work for something like 5*10^-23\n",
        "#let us look at only cross polarisation for now\n",
        "size = 4096\n",
        "hcshort = np.zeros(size)\n",
        "shorttimes  = np.zeros(size)\n",
        "for i in range(0,size):\n",
        "  hcshort[i] = hc[i]\n",
        "  shorttimes[i] = hc.sample_times[i]\n",
        "sf = np.zeros(size)\n",
        "fmin = 0\n",
        "fmax = 8192 #NYQUIST FREQUENCY\n",
        "omgstart = 2*pi*0.01\n",
        "omgend = 2*pi*8192\n",
        "halfsize = int(size/2)\n",
        "omg1 = np.linspace(omgstart,omgend,num= halfsize)#NEEDS TO BE CHANGED DEPENDING ON WHICH OBSERVATION WE ARE LOOKING AT\n",
        "omg2 = np.linspace(-1*omgend,omgstart,num = halfsize)\n",
        "omg = np.zeros(size)\n",
        "for i in range(0,halfsize):\n",
        "  omg[i] = omg1[i]\n",
        "  omg[halfsize+i] = omg2[i]\n",
        "print(\"size=\",size)\n",
        "# WE NOW NEED TO REORDER THE INPUT THE RIGHT WAY FOR IFFT\n",
        "for i in range(0,size):\n",
        "  omgi = omg[i]\n",
        "  sf[i] = s(omgi,theta,mfp,z,h0)\n",
        "st = np.fft.ifft(sf)\n",
        "freqstrain = np.fft.fft(hcshort,n=size)\n",
        "print(len(st))\n",
        "#do circular convolution of st and hc\n",
        "cmatrix = np.zeros((size,size))\n",
        "for i in range(0,size):\n",
        "  for j in range(0,size):\n",
        "    cmatrix[j][i] = st[(i+j)%size]\n",
        "hcarr = np.zeros(size)\n",
        "for i in range(0,size):\n",
        "  hcarr[i] = hcshort[i]\n",
        "modwave = np.matmul(cmatrix,hcarr)\n",
        "marr = np.zeros(size)\n",
        "for i in range(0,size):\n",
        "  marr[i] = modwave[i]\n",
        "for i in range(0,size):\n",
        "  modwave[i] = marr[size-1-i]\n",
        "#modwave.reverse()\n",
        "#modwave = np.zeros(size)\n",
        "#for i in range(0,size-1):\n",
        "#  modwave[i] = modwaveunscaled[2*i]\n",
        "#modwave[size-1] = 0\n",
        "#tempxaxis = np.linspace(1,2*size-1,num=2*size-1)\n",
        "pylab.figure(figsize=pylab.figaspect(0.4))\n",
        "#pylab.plot(hp.sample_times,st,label=\"modifications freq\")\n",
        "#pylab.plot(hp.sample_times,st,label=\"modifications\")\n",
        "#pylab.plot(tempxaxis,modwaveunscaled,label='unscaled modified strain')\n",
        "#fig, (ax1, ax2) = pylab.subplots(2)\n",
        "pylab.plot(shorttimes,modwave,label='Modified Strain')\n",
        "pylab.plot(shorttimes, hcshort, label='original strain')\n",
        "#pylab.plot(omg,sf,label='suppression factor')\n",
        "error = 0\n",
        "for i in range(0,3000):\n",
        "  if(hcshort[i] != 0):\n",
        "    error = error + ((modwave[i]-hcshort[i])**2)\n",
        "sqrterror = np.sqrt(error)\n",
        "print('square error = ',error)\n",
        "#pylab.plot(hc.sample_times,sf,label='supression as function of frequency')\n",
        "#pylab.plot(hp.sample_times, st,label = 'strain in time basis')\n",
        "#pylab.plot(hp.sample_times,freqstrain,label='ft of strain')\n",
        "pylab.xlabel('Time (s)')\n",
        "pylab.ylabel('Strain')\n",
        "title = \"Constant suppression forced \"\n",
        "#title = title + str(mfp)\n",
        "pylab.suptitle(title)\n",
        "#pylab.xlim(-.05, .05)\n",
        "pylab.legend()\n",
        "pylab.grid()\n",
        "pylab.show()\n",
        "\n"
      ],
      "execution_count": null,
      "outputs": []
    }
  ]
}